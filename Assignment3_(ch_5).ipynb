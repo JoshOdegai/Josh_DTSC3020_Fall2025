{
  "cells": [
    {
      "cell_type": "markdown",
      "metadata": {
        "id": "view-in-github",
        "colab_type": "text"
      },
      "source": [
        "<a href=\"https://colab.research.google.com/github/JoshOdegai/Josh_DTSC3020_Fall2025/blob/main/Assignment3_(ch_5).ipynb\" target=\"_parent\"><img src=\"https://colab.research.google.com/assets/colab-badge.svg\" alt=\"Open In Colab\"/></a>"
      ]
    },
    {
      "cell_type": "markdown",
      "metadata": {
        "id": "nevCG4Qs0b8R"
      },
      "source": [
        "# DTSC 3020 – Assignment 3\n",
        "\n",
        "This exercise focuses on **if statements and conditional logic** in Python and is designed to help students practice decision-making structures.\n",
        "\n",
        "**Total points:** 5  \n",
        "**Deadline:** Friday at midnight  \n",
        "**Submission:** Upload your Python file to your GitHub repository and submit **only your GitHub link**.\n",
        "\n",
        "### Expectations\n",
        "- Write complete answers and run all cells before submission.\n",
        "- Keep the notebook clean (no unnecessary code).\n",
        "\n"
      ],
      "id": "nevCG4Qs0b8R"
    },
    {
      "cell_type": "markdown",
      "metadata": {
        "id": "gfumj0DY0b8f"
      },
      "source": [
        "## Question 1 – Movie Ticket System\n",
        "Write a Python code that checks the price of a movie ticket.\n",
        "If the age is between 0 and 11 it is Child, if between 12 and 17 it is Teen, and if 18 or older it is Adult.\n",
        "Print the category and the ticket price (you choose the price).\n",
        "Run the program with age = 16."
      ],
      "id": "gfumj0DY0b8f"
    },
    {
      "cell_type": "code",
      "metadata": {
        "id": "67TGDT6w0b8k",
        "colab": {
          "base_uri": "https://localhost:8080/"
        },
        "outputId": "571e77bf-9403-4959-fedf-7d12327ecf19"
      },
      "execution_count": null,
      "outputs": [
        {
          "output_type": "stream",
          "name": "stdout",
          "text": [
            "This is a Teen Ticket. The price is $12\n"
          ]
        }
      ],
      "source": [
        "# write your answer here\n",
        "age = 16\n",
        "if age >= 0 and age <= 11:\n",
        "  print(\"This is a Child Ticket. The price is $8\")\n",
        "elif age >= 12 and age <= 17:\n",
        "  print(\"This is a Teen Ticket. The price is $12\")\n",
        "elif age >= 18:\n",
        "  print(\"This is an Adult Ticket. The price is $16\")\n"
      ],
      "id": "67TGDT6w0b8k"
    },
    {
      "cell_type": "markdown",
      "metadata": {
        "id": "_tUFNVKT0b8r"
      },
      "source": [
        "## Question 2 – Online Store Discount\n",
        "Write a Python code that applies a discount based on the shopping cart total.\n",
        "If the total is less than 50 dollars there is no discount, if the total is between 50 and 99 dollars there is a 10 percent discount, and if the total is 100 dollars or more there is a 20 percent discount.\n",
        "Print the original total, the discount, and the final price.\n",
        "Run the program with cart_total = 85."
      ],
      "id": "_tUFNVKT0b8r"
    },
    {
      "cell_type": "code",
      "metadata": {
        "id": "yTtX719o0b8v",
        "colab": {
          "base_uri": "https://localhost:8080/"
        },
        "outputId": "d348d3a9-e37d-42b6-ea3b-07bff905d028"
      },
      "execution_count": null,
      "outputs": [
        {
          "output_type": "stream",
          "name": "stdout",
          "text": [
            "Original Total: $ 85  Discount: 10 percent Final Price: $ 76.5\n"
          ]
        }
      ],
      "source": [
        "# write your answer here\n",
        "cart_total = 85\n",
        "if cart_total < 50:\n",
        "  print(\"Original Total: $\",cart_total, \" Discount: No Discount Final Price: $\", cart_total)\n",
        "elif cart_total >= 50 and cart_total <= 99:\n",
        "  print(\"Original Total: $\",cart_total, \" Discount: 10 percent Final Price: $\", cart_total * 0.9)\n",
        "elif cart_total >= 100:\n",
        "  print(\"Original Total: $\",cart_total, \" Discount: 20 percent Final Price: $\", cart_total * 0.8)"
      ],
      "id": "yTtX719o0b8v"
    },
    {
      "cell_type": "markdown",
      "metadata": {
        "id": "uOUYYC870b8x"
      },
      "source": [
        "## Question 3 – Exam Grading\n",
        "Write a Python code that gives a letter grade for a score.\n",
        "If the score is between 90 and 100 the grade is A, if between 80 and 89 the grade is B, if between 70 and 79 the grade is C, if between 60 and 69 the grade is D, and if below 60 the grade is F.\n",
        "Print the grade and a short message.\n",
        "Run the program with score = 73."
      ],
      "id": "uOUYYC870b8x"
    },
    {
      "cell_type": "code",
      "metadata": {
        "id": "HDtf_YLG0b8y",
        "colab": {
          "base_uri": "https://localhost:8080/"
        },
        "outputId": "da0ffc13-eab1-40cc-9cb8-e7a5392c89e4"
      },
      "execution_count": null,
      "outputs": [
        {
          "output_type": "stream",
          "name": "stdout",
          "text": [
            "You got a C. Average\n"
          ]
        }
      ],
      "source": [
        "# write your answer here\n",
        "score = 73\n",
        "if score >= 90 and score <= 100:\n",
        "  print(\"You got an A. Well Done!\")\n",
        "elif score >= 80 and score <= 89:\n",
        "  print(\"You got a B. Good Job\")\n",
        "elif score >= 70 and score <= 79:\n",
        "  print(\"You got a C. Average\")\n",
        "elif score >= 60 and score <= 69:\n",
        "  print(\"You got a D. Need Improvement\")\n",
        "elif score < 60:\n",
        "  print(\"You got an F. Failure\")"
      ],
      "id": "HDtf_YLG0b8y"
    },
    {
      "cell_type": "markdown",
      "metadata": {
        "id": "ZCIKM6Xs0b80"
      },
      "source": [
        "## Question 4 – Parking Fee\n",
        "Write a Python code that calculates parking fees.\n",
        "If the car is parked for 0 to 2 hours the parking is free, if the car is parked for 3 to 5 hours the fee is 3 dollars per hour, and if the car is parked for more than 5 hours the fee is 3 dollars per hour for the first three hours after free and then 5 dollars per hour for the rest.\n",
        "Print the number of hours and the total fee.\n",
        "Run the program with hours = 6."
      ],
      "id": "ZCIKM6Xs0b80"
    },
    {
      "cell_type": "code",
      "metadata": {
        "id": "g3a_sPo50b81",
        "colab": {
          "base_uri": "https://localhost:8080/"
        },
        "outputId": "6e74d5e0-12ec-4357-8d45-2253077486c5"
      },
      "execution_count": null,
      "outputs": [
        {
          "output_type": "stream",
          "name": "stdout",
          "text": [
            "Number of hours: 6 Total Fee: $ 20\n"
          ]
        }
      ],
      "source": [
        "# write your answer here\n",
        "hours = 6\n",
        "if hours >= 0 and hours <= 2:\n",
        "  print(\"Number of hours:\", hours, \"Total Fee: Free\")\n",
        "elif hours >= 3 and hours <= 5:\n",
        "  print(\"Number of hours:\", hours, \"Total Fee: $\", hours * 3)\n",
        "elif hours >= 6:\n",
        "  print(\"Number of hours:\", hours, \"Total Fee: $\", 15 + 5*(hours - 5))\n",
        "\n",
        "\n"
      ],
      "id": "g3a_sPo50b81"
    },
    {
      "cell_type": "markdown",
      "metadata": {
        "id": "XBf0-SPz0b83"
      },
      "source": [
        "## Question 5 – Cafeteria Menu\n",
        "Write a Python code that creates a list with three food items.\n",
        "Check if an order is in the list.\n",
        "If the item is in the list print a confirmation, and if the item is not in the list print a polite message.\n",
        "Run the program with menu = ['pizza','salad','sandwich'] and order = 'salad'."
      ],
      "id": "XBf0-SPz0b83"
    },
    {
      "cell_type": "code",
      "metadata": {
        "id": "y52UEMoX0b85",
        "colab": {
          "base_uri": "https://localhost:8080/"
        },
        "outputId": "83de5382-4bb7-451a-e95e-6997c4f1e774"
      },
      "execution_count": null,
      "outputs": [
        {
          "output_type": "stream",
          "name": "stdout",
          "text": [
            "salad is on the menu!\n"
          ]
        }
      ],
      "source": [
        "# write your answer here\n",
        "menu = ['pizza', 'salad', 'sandwich']\n",
        "order = 'salad'\n",
        "if order in menu:\n",
        "  print(order, \"is on the menu!\")\n",
        "else:\n",
        "  print(\"Sorry, your order is not on the menu\")"
      ],
      "id": "y52UEMoX0b85"
    },
    {
      "cell_type": "markdown",
      "metadata": {
        "id": "-60rL71F0b86"
      },
      "source": [
        "## Question 6 – Job Application Filter\n",
        "Write a Python code that checks if a person is eligible for a job.\n",
        "If the person is older than 22 and has more than 2 years of experience print Accepted.\n",
        "Otherwise print Not Accepted.\n",
        "Run the program with age = 23 and experience = 1."
      ],
      "id": "-60rL71F0b86"
    },
    {
      "cell_type": "code",
      "metadata": {
        "id": "-h964CqY0b88",
        "colab": {
          "base_uri": "https://localhost:8080/"
        },
        "outputId": "f05dc56d-b1a4-494f-bf85-8617fad15181"
      },
      "execution_count": null,
      "outputs": [
        {
          "output_type": "stream",
          "name": "stdout",
          "text": [
            "Not Accepted\n"
          ]
        }
      ],
      "source": [
        "# write your answer here\n",
        "age = 23\n",
        "experience = 1\n",
        "if age > 22 and experience > 2:\n",
        "  print(\"Accepted\")\n",
        "else:\n",
        "  print(\"Not Accepted\")\n"
      ],
      "id": "-h964CqY0b88"
    },
    {
      "cell_type": "markdown",
      "metadata": {
        "id": "MOMMxnuE0b8-"
      },
      "source": [
        "## Question 7 – Clothing Advice\n",
        "Write a Python code that suggests clothing based on the temperature.\n",
        "If the temperature is below 10 print Coat and gloves, if the temperature is between 10 and 19 print Jacket, and if the temperature is 20 or more print T-shirt.\n",
        "Run the program with temperature = 15."
      ],
      "id": "MOMMxnuE0b8-"
    },
    {
      "cell_type": "code",
      "metadata": {
        "id": "V6RtrCOa0b8_",
        "colab": {
          "base_uri": "https://localhost:8080/"
        },
        "outputId": "c50887d9-e38b-435d-af47-38419f34abfc"
      },
      "execution_count": null,
      "outputs": [
        {
          "output_type": "stream",
          "name": "stdout",
          "text": [
            "Jacket\n"
          ]
        }
      ],
      "source": [
        "# write your answer here\n",
        "temperature = 15\n",
        "if temperature < 10:\n",
        "  print(\"Coat and Gloves\")\n",
        "elif temperature >= 10 and temperature <= 19:\n",
        "  print(\"Jacket\")\n",
        "elif temperature >= 20:\n",
        "  print(\"T-Shirt\")"
      ],
      "id": "V6RtrCOa0b8_"
    },
    {
      "cell_type": "markdown",
      "metadata": {
        "id": "R-i9Jzpn0b9A"
      },
      "source": [
        "## Question 8 – Loan Eligibility\n",
        "Write a Python code that checks loan eligibility.\n",
        "If the salary is at least 3000 and the credit score is at least 650 print Loan Approved, otherwise print Loan Denied.\n",
        "Run the program with salary = 3500 and credit_score = 640."
      ],
      "id": "R-i9Jzpn0b9A"
    },
    {
      "cell_type": "code",
      "metadata": {
        "id": "2M0s0bC40b9B",
        "colab": {
          "base_uri": "https://localhost:8080/"
        },
        "outputId": "a624c133-e48b-4ed6-c74f-917d53dcc5bd"
      },
      "execution_count": null,
      "outputs": [
        {
          "output_type": "stream",
          "name": "stdout",
          "text": [
            "Loan Denied\n"
          ]
        }
      ],
      "source": [
        "# write your answer here\n",
        "salary = 3500\n",
        "credit_score = 640\n",
        "if salary >= 3000 and credit_score >= 650:\n",
        "  print(\"Loan Approved\")\n",
        "else:\n",
        "  print(\"Loan Denied\")"
      ],
      "id": "2M0s0bC40b9B"
    },
    {
      "cell_type": "markdown",
      "metadata": {
        "id": "I0WmTyFv0b9D"
      },
      "source": [
        "## Question 9 – Password Strength\n",
        "Write a Python code that checks if a password is strong, medium, or weak based on its length.\n",
        "If the password has fewer than 6 characters it is Weak, if it has 6 to 10 characters it is Medium, and if it has more than 10 characters it is Strong.\n",
        "Print the strength.\n",
        "Run the program with password = 'hello123'."
      ],
      "id": "I0WmTyFv0b9D"
    },
    {
      "cell_type": "code",
      "metadata": {
        "id": "Jm8fu7ft0b9E",
        "colab": {
          "base_uri": "https://localhost:8080/"
        },
        "outputId": "7ee06dad-d00f-4de1-a75a-394f224dd766"
      },
      "execution_count": null,
      "outputs": [
        {
          "output_type": "stream",
          "name": "stdout",
          "text": [
            "Medium\n"
          ]
        }
      ],
      "source": [
        "# write your answer here\n",
        "password = 'hello123'\n",
        "if len(password) < 6:\n",
        "  print(\"Weak\")\n",
        "elif len(password) >= 6 and len(password) <= 10:\n",
        "  print(\"Medium\")\n",
        "elif len(password) > 10:\n",
        "  print(\"Strong\")"
      ],
      "id": "Jm8fu7ft0b9E"
    },
    {
      "cell_type": "markdown",
      "metadata": {
        "id": "kgKSm4WB0b9F"
      },
      "source": [
        "## Question 10 – Guest List Checker\n",
        "Write a Python code that creates a list with three invited guests.\n",
        "Define a variable for a guest name.\n",
        "Check if the guest name is in the list.\n",
        "If the guest is in the list print Welcome, and if the guest is not in the list print Not on the list.\n",
        "Run the program with guest = 'Sara'."
      ],
      "id": "kgKSm4WB0b9F"
    },
    {
      "cell_type": "code",
      "metadata": {
        "id": "4pyiTbMT0b9G",
        "colab": {
          "base_uri": "https://localhost:8080/"
        },
        "outputId": "5b670c9e-b2c4-420e-d4a5-9d6f3073e7f3"
      },
      "execution_count": null,
      "outputs": [
        {
          "output_type": "stream",
          "name": "stdout",
          "text": [
            "Welcome\n"
          ]
        }
      ],
      "source": [
        "# write your answer here\n",
        "guest_list = [\"Jim\", \"Bob\", \"Sara\"]\n",
        "guest = 'Sara'\n",
        "if guest in guest_list:\n",
        "  print(\"Welcome\")\n",
        "else:\n",
        "  print(\"Not on the list\")"
      ],
      "id": "4pyiTbMT0b9G"
    }
  ],
  "metadata": {
    "kernelspec": {
      "display_name": "Python 3",
      "name": "python3"
    },
    "language_info": {
      "name": "python",
      "version": "3.x"
    },
    "colab": {
      "provenance": [],
      "generative_ai_disabled": true,
      "include_colab_link": true
    }
  },
  "nbformat": 4,
  "nbformat_minor": 5
}