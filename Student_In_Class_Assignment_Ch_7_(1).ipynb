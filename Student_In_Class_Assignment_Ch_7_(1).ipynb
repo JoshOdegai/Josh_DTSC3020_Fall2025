{
  "nbformat": 4,
  "nbformat_minor": 0,
  "metadata": {
    "colab": {
      "provenance": [],
      "include_colab_link": true
    },
    "kernelspec": {
      "name": "python3",
      "display_name": "Python 3"
    },
    "language_info": {
      "name": "python"
    }
  },
  "cells": [
    {
      "cell_type": "markdown",
      "metadata": {
        "id": "view-in-github",
        "colab_type": "text"
      },
      "source": [
        "<a href=\"https://colab.research.google.com/github/JoshOdegai/Josh_DTSC3020_Fall2025/blob/main/Student_In_Class_Assignment_Ch_7_(1).ipynb\" target=\"_parent\"><img src=\"https://colab.research.google.com/assets/colab-badge.svg\" alt=\"Open In Colab\"/></a>"
      ]
    },
    {
      "cell_type": "markdown",
      "source": [
        "#Write a Python program that simulates a self-checkout system.**\n",
        "Use this price list: prices: apple= 1 ,  bread= 2.5 ,  milk=5 ,  egg= 6\n",
        "\n",
        "Program requirements:\n",
        "\n",
        "The program should repeatedly ask the user to enter an item name or enter \"pay\".\n",
        "\n",
        "\n",
        "• Valid inputs are the names of the **items above ** or the word \"pay\".\n",
        "\n",
        "\n",
        "If the entered item exists in the price list:\n",
        "\n",
        "• Add its price to the running total.\n",
        "\n",
        "\n",
        "• Print the message: \"Added , running total: $\".\n",
        "\n",
        "\n",
        "If the entered item does not exist in the price list:\n",
        "\n",
        "• Print \"Item not found\".\n",
        "\n",
        "If the user types \"pay\":\n",
        "\n",
        "• Stop asking for input.\n",
        "\n",
        "Show the following three values:\n",
        "\n",
        "\n",
        "**Subtotal: the sum of all valid items entered.**\n",
        "\n",
        "**Tax: 8% of the subtotal. (0.08 * total)**\n",
        "\n",
        "**Final total: subtotal + tax.**\n",
        "\n",
        "\n",
        "Run your program with this purchase list. For example, for one person whose purchase is:apple, pizza, bread, pay *italicised text*"
      ],
      "metadata": {
        "id": "t1xs1X02Owtz"
      }
    },
    {
      "cell_type": "code",
      "execution_count": 1,
      "metadata": {
        "id": "nTH6mvq1OqHP",
        "colab": {
          "base_uri": "https://localhost:8080/"
        },
        "outputId": "5ade8bb5-6899-4468-cc36-f8266036b117"
      },
      "outputs": [
        {
          "output_type": "stream",
          "name": "stdout",
          "text": [
            "Enter an item name or enter 'pay' to see the total: apple\n",
            "Added apple, running total:  1\n",
            "Enter an item name or enter 'pay' to see the total: pear\n",
            "Item not found\n",
            "Enter an item name or enter 'pay' to see the total: apple\n",
            "Added apple, running total:  2\n",
            "Enter an item name or enter 'pay' to see the total: bread\n",
            "Added bread, running total:  4.5\n",
            "Enter an item name or enter 'pay' to see the total: milk\n",
            "Added milk, running total:  9.5\n",
            "Enter an item name or enter 'pay' to see the total: egg\n",
            "Added egg, running total:  15.5\n",
            "Enter an item name or enter 'pay' to see the total: egg\n",
            "Added egg, running total:  21.5\n",
            "Enter an item name or enter 'pay' to see the total: pay\n",
            "Subtotal:  21.5\n",
            "Tax:  1.72\n",
            "Final Total:  23.22\n"
          ]
        }
      ],
      "source": [
        "# write your code here\n",
        "item = [\"apple\", \"bread\", \"milk\", \"egg\"]\n",
        "total = 0\n",
        "while True:\n",
        "  message = input(\"Enter an item name or enter 'pay' to see the total: \").lower()\n",
        "  if message == \"pay\":\n",
        "    break\n",
        "  if message not in item:\n",
        "    print(\"Item not found\")\n",
        "    continue\n",
        "  if message == \"apple\":\n",
        "    total = total + 1\n",
        "    print(\"Added apple, running total: \", total)\n",
        "  if message == \"bread\":\n",
        "    total = total + 2.5\n",
        "    print(\"Added bread, running total: \", total)\n",
        "  if message == \"milk\":\n",
        "    total = total + 5\n",
        "    print(\"Added milk, running total: \", total)\n",
        "  if message == \"egg\":\n",
        "    total = total + 6\n",
        "    print(\"Added egg, running total: \", total)\n",
        "print(\"Subtotal: \", total)\n",
        "print(\"Tax: \", (0.08*total))\n",
        "print(\"Final Total: \", total + (0.08*total))\n"
      ]
    },
    {
      "cell_type": "code",
      "source": [],
      "metadata": {
        "id": "r6NMIY-o3JLA"
      },
      "execution_count": null,
      "outputs": []
    }
  ]
}