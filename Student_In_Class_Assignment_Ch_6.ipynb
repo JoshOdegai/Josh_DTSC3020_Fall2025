{
  "nbformat": 4,
  "nbformat_minor": 0,
  "metadata": {
    "colab": {
      "provenance": [],
      "include_colab_link": true
    },
    "kernelspec": {
      "name": "python3",
      "display_name": "Python 3"
    },
    "language_info": {
      "name": "python"
    }
  },
  "cells": [
    {
      "cell_type": "markdown",
      "metadata": {
        "id": "view-in-github",
        "colab_type": "text"
      },
      "source": [
        "<a href=\"https://colab.research.google.com/github/JoshOdegai/Josh_DTSC3020_Fall2025/blob/main/Student_In_Class_Assignment_Ch_6.ipynb\" target=\"_parent\"><img src=\"https://colab.research.google.com/assets/colab-badge.svg\" alt=\"Open In Colab\"/></a>"
      ]
    },
    {
      "cell_type": "markdown",
      "source": [
        "### ✅ Final Class Exercise: Library Borrowing (using key-value)\n",
        "You are given a dictionary that shows how many books each student has borrowed. Write a Python program to:\n",
        "1.  Print the names of students who borrowed more than 2 books.\n",
        "2. calculate the total number of borrowed books.\n"
      ],
      "metadata": {
        "id": "p337feJZG6g0"
      }
    },
    {
      "cell_type": "code",
      "source": [
        "borrowed_books = {\n",
        "    'Ali': 1,\n",
        "    'Sara': 3,\n",
        "    'Reza': 0,\n",
        "    'Lina': 4,\n",
        "    'Omid': 2\n",
        "}\n",
        "\n",
        "# write your answer here part 1\n",
        "print(\"For part 1: \")\n",
        "for key, value in borrowed_books.items():\n",
        "    if value > 2:\n",
        "        print(key)\n",
        "\n",
        "\n",
        "\n",
        "\n",
        "\n",
        "\n",
        "# write your answer here part 2\n",
        "print(\"For part 2: \")\n",
        "total_number_of_borrowed_books = sum([value for value in borrowed_books.values()])\n",
        "print(total_number_of_borrowed_books)"
      ],
      "metadata": {
        "id": "OibWnbqOG_cX",
        "colab": {
          "base_uri": "https://localhost:8080/"
        },
        "outputId": "12caea67-11ac-4fe0-9a19-882f29b35a3c"
      },
      "execution_count": 5,
      "outputs": [
        {
          "output_type": "stream",
          "name": "stdout",
          "text": [
            "For part 1: \n",
            "Sara\n",
            "Lina\n",
            "For part 2: \n",
            "10\n"
          ]
        }
      ]
    },
    {
      "cell_type": "code",
      "source": [],
      "metadata": {
        "id": "Ep3NyW6ptHPF"
      },
      "execution_count": null,
      "outputs": []
    }
  ]
}