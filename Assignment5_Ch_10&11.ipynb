{
  "cells": [
    {
      "cell_type": "markdown",
      "metadata": {
        "id": "view-in-github",
        "colab_type": "text"
      },
      "source": [
        "<a href=\"https://colab.research.google.com/github/JoshOdegai/Josh_DTSC3020_Fall2025/blob/main/Assignment5_Ch_10%2611.ipynb\" target=\"_parent\"><img src=\"https://colab.research.google.com/assets/colab-badge.svg\" alt=\"Open In Colab\"/></a>"
      ]
    },
    {
      "cell_type": "markdown",
      "id": "9903d230",
      "metadata": {
        "id": "9903d230"
      },
      "source": [
        "# Assignment5: CRM Cleanup @ **DalaShop**\n",
        "*Files (Ch.10), Exceptions (Ch.10), Unit Tests (Ch.11), and Regular Expressions*  \n",
        ".....\n",
        "\n",
        "**Total: 3 points**  (Two questions, 1.5 pts each)  \n",
        "\n",
        "> This assignment is scenario-based and aligned with Python Crash Course Ch.10 (files & exceptions), Ch.11 (unit testing with `unittest`), and Regular Expressions."
      ]
    },
    {
      "cell_type": "markdown",
      "id": "d6487401",
      "metadata": {
        "id": "d6487401"
      },
      "source": [
        "## Scenario\n",
        "You are a data intern at an online retailer called **DalaShop**.  \n",
        "Sales exported a **raw contacts** file from the CRM. It contains customer names, emails, and phone numbers, but the formatting is messy and some emails are invalid.  \n",
        "Your tasks:\n",
        "\n",
        "1. **Clean** the contacts (Files + Exceptions + Regex).  \n",
        "2. **Write unit tests** to make sure your helper functions work correctly and keep working in the future."
      ]
    },
    {
      "cell_type": "markdown",
      "id": "0bd1712f",
      "metadata": {
        "id": "0bd1712f"
      },
      "source": [
        "## Data file (given by the company): `contacts_raw.txt`\n",
        "Use this exact sample data (you may extend it for your own testing, but do **not** change it when submitting).  \n",
        "Run the next cell once to create the file beside your notebook."
      ]
    },
    {
      "cell_type": "code",
      "execution_count": 4,
      "id": "c395a1a8",
      "metadata": {
        "id": "c395a1a8",
        "colab": {
          "base_uri": "https://localhost:8080/"
        },
        "outputId": "32287f02-9b42-4be2-9ce7-03c2b488b8b7"
      },
      "outputs": [
        {
          "output_type": "stream",
          "name": "stdout",
          "text": [
            "Wrote contacts_raw.txt with sample DalaShop data.\n"
          ]
        }
      ],
      "source": [
        "# Create the provided company dataset file\n",
        "with open(\"contacts_raw.txt\", \"w\", encoding=\"utf-8\") as f:\n",
        "    f.write('Alice Johnson <alice@example.com> , +1 (469) 555-1234\\nBob Roberts <bob[at]example.com> , 972-555-777\\nSara M. , sara@mail.co , 214 555 8888\\n\"Mehdi A.\" <mehdi.ay@example.org> , (469)555-9999\\nDelaram <delaram@example.io>, +1-972-777-2121\\nNima <NIMA@example.io> , 972.777.2121\\nduplicate <Alice@Example.com> , 469 555 1234')\n",
        "print(\"Wrote contacts_raw.txt with sample DalaShop data.\")"
      ]
    },
    {
      "cell_type": "markdown",
      "id": "1b535f73",
      "metadata": {
        "id": "1b535f73"
      },
      "source": [
        "## Q1 (1.5 pts) — CRM cleanup with Files, Exceptions, and Regex\n",
        "Implement `q1_crm_cleanup.py` to:\n",
        "\n",
        "1. **Read** `contacts_raw.txt` using `pathlib` and `with`. If the file is missing, **handle** it gracefully with `try/except FileNotFoundError` (print a friendly message; do not crash).\n",
        "2. **Validate emails** with a simple regex (`r\"[A-Za-z0-9._%+-]+@[A-Za-z0-9.-]+\\.[A-Za-z]{2,}\"`).  \n",
        "   - Trim whitespace with `strip()` before checking.  \n",
        "   - Use **full** matching (not partial).\n",
        "3. **Normalize phone numbers:** remove all non-digits (e.g., with `re.sub(r\"\\D\", \"\", raw)`).  \n",
        "   - If the result has **≥ 10 digits**, keep the **last 10 digits**.  \n",
        "   - Otherwise, return an **empty string** (`\"\"`).\n",
        "4. **Filter rows:** keep **only** rows with a valid email.\n",
        "5. **Deduplicate:** remove duplicates by **email** using **case-insensitive** comparison (e.g., `email.casefold()`). **Keep the first occurrence** and drop later duplicates.\n",
        "6. **Output CSV:** write to `contacts_clean.csv` with **columns exactly** `name,email,phone` (UTF-8).  \n",
        "7. **Preserve input order:** the order of rows in `contacts_clean.csv` must match the **first appearance** order from the input file. **Do not sort** the rows.\n",
        "\n",
        "**Grading rubric (1.5 pts):**\n",
        "- (0.4) File read/write via `pathlib` + graceful `FileNotFoundError` handling  \n",
        "- (0.5) Correct email regex validation + filtering  \n",
        "- (0.4) Phone normalization + case-insensitive de-dup (keep first)  \n",
        "- (0.2) Clean code, clear names, minimal docstrings/comments"
      ]
    },
    {
      "cell_type": "code",
      "source": [
        "# Write your answer here\n",
        "from pathlib import Path\n",
        "import re\n",
        "\n",
        "\n",
        "email_check = re.compile(r\"[A-Za-z0-9._%+-]+@[A-Za-z0-9.-]+\\.[A-Za-z]{2,}\")\n",
        "\n",
        "\n",
        "def normalize_phone(raw):\n",
        "  digits = re.sub(r\"\\D\", \"\", raw)\n",
        "  if len(digits) >= 10:\n",
        "    return digits[-10:]\n",
        "  else:\n",
        "    digits = \"\"\n",
        "    return digits\n",
        "\n",
        "\n",
        "def extract_fields(line):\n",
        "    email_match = re.search(r\"<([^>]+)>\", line)\n",
        "    if email_match:\n",
        "        email = email_match.group(1).strip()\n",
        "        name_part = line.split(\"<\")[0].strip().strip('\"').strip()\n",
        "    else:\n",
        "        email_plain = re.search(r\"[A-Za-z0-9._%+-]+@[A-Za-z0-9.-]+\\.[A-Za-z]{2,}\", line)\n",
        "        if email_plain:\n",
        "          email = email_plain.group(0).strip()\n",
        "        else:\n",
        "           email = \"\"\n",
        "        name_part = line.split(\",\")[0].strip().strip('\"').strip()\n",
        "\n",
        "    parts = [p.strip() for p in line.split(\",\")]\n",
        "    if parts:\n",
        "      phone = parts[-1]\n",
        "    else:\n",
        "      phone = \"\"\n",
        "    return name_part, email, phone\n",
        "\n",
        "\n",
        "path = Path('data')\n",
        "path.mkdir(exist_ok=True)\n",
        "contact_path = path / 'contacts_raw.txt'\n",
        "output_path = path / 'contacts_clean.csv'\n",
        "\n",
        "try:\n",
        "  with contact_path.open('r') as f:\n",
        "        contents = f.readlines()\n",
        "except FileNotFoundError:\n",
        "    print(f\"File {'contacts_raw.txt'!r} not found. Make sure the file is in the correct location\")\n",
        "else:\n",
        "  cleaned_rows = []\n",
        "  seen_emails = set()\n",
        "\n",
        "  for content in contents:\n",
        "      name, email, phone = extract_fields(content)\n",
        "      name = name.strip()\n",
        "      email = email.strip()\n",
        "      phone = phone.strip()\n",
        "\n",
        "      if not email_check.fullmatch(email):\n",
        "          continue\n",
        "\n",
        "      email_key = email.casefold()\n",
        "      if email_key in seen_emails:\n",
        "          continue\n",
        "      seen_emails.add(email_key)\n",
        "\n",
        "\n",
        "      phone = normalize_phone(phone)\n",
        "\n",
        "      cleaned_rows.append((name, email, phone))\n",
        "\n",
        "  with output_path.open('w') as f:\n",
        "    # Write header\n",
        "    f.write(\"name,email,phone\\n\")\n",
        "\n",
        "    # Write each row\n",
        "    for name, email, phone in cleaned_rows:\n",
        "        f.write(f\"{name},{email},{phone}\\n\")\n",
        "\n",
        "\n",
        "\n"
      ],
      "metadata": {
        "id": "gO9xaHmKNlax"
      },
      "id": "gO9xaHmKNlax",
      "execution_count": 7,
      "outputs": []
    },
    {
      "cell_type": "markdown",
      "id": "258c5b04",
      "metadata": {
        "id": "258c5b04"
      },
      "source": [
        "## Q2 (1.5 pts) — Unit testing with `unittest`\n",
        "Create tests in `test_crm_cleanup.py` that cover at least:\n",
        "\n",
        "1. **Email validation**: valid/invalid variations.  \n",
        "2. **Phone normalization**: parentheses, dashes, spaces, country code; too-short cases.  \n",
        "3. **Parsing**: from a small multi-line string (not from a file), assert the exact structured rows (name/email/phone).  \n",
        "4. **De-duplication**: demonstrate that a case-variant duplicate email is dropped (first occurrence kept).\n",
        "\n",
        "\n"
      ]
    },
    {
      "cell_type": "code",
      "source": [
        "# Write your answer here\n",
        "import unittest\n",
        "\n",
        "class TestCRMCleanup(unittest.TestCase):\n",
        "\n",
        "  def test_emails(self):\n",
        "    emails = [('alice@goodexample1.com', True), ('johnnycage@goodexample2.com', True), ('kellyo.badexample1.com', False), ('badexample@', False)]\n",
        "    for email, expected in emails:\n",
        "      with self.subTest(email=email):\n",
        "        result = bool(email_check.fullmatch(email))\n",
        "        self.assertEqual(\n",
        "          result, expected,\n",
        "          )\n",
        "\n",
        "  def test_phone_numbers(self):\n",
        "    phone_numbers = [\n",
        "      (\"(943) 625-1258\", \"9436251258\"),    (\"972-915-2323\", \"9729152323\"),  (\"214 215 1247\", \"2142151247\"), (\"+1-532-921-6432\", \"5329216432\"),  (\"5559876\", \"\"),\n",
        "    ]\n",
        "    for raw, expected in phone_numbers:\n",
        "      with self.subTest(raw=raw):\n",
        "        result = normalize_phone(raw)\n",
        "        self.assertEqual(\n",
        "          result, expected,\n",
        "        )\n",
        "\n",
        "  def test_parsing(self):\n",
        "    multi_line = \"\"\"Alice Johnson <alice@example.com> , +1 (469) 555-1234\n",
        "    Sara M. , sara@mail.co , 214 555 8888\n",
        "    \"Mehdi A.\" <mehdi.ay@example.org> , (469)555-9999\n",
        "    \"\"\"\n",
        "\n",
        "    lines = multi_line.strip().split(\"\\n\")\n",
        "\n",
        "    results = [extract_fields(line) for line in lines]\n",
        "\n",
        "    expected = [ (\"Alice Johnson\", \"alice@example.com\", \"+1 (469) 555-1234\"), (\"Sara M.\", \"sara@mail.co\", \"214 555 8888\"), (\"Mehdi A.\", \"mehdi.ay@example.org\", \"(469)555-9999\")\n",
        "    ]\n",
        "\n",
        "    self.assertEqual(results, expected)\n",
        "\n",
        "  def test_de_dup(self):\n",
        "    dup_test = [(\"Alice Johnson\", \"alice@example.com\", \"4695551234\"), (\"alice johnson\", \"Alice@Example.com\", \"4695551234\"),  (\"Bob\", \"bob@example.com\", \"9725557777\")\n",
        "    ]\n",
        "\n",
        "    seen_emails = set()\n",
        "    cleaned_rows = []\n",
        "\n",
        "    for name, email, phone in dup_test:\n",
        "        key = email.casefold()\n",
        "        if key in seen_emails:\n",
        "            continue\n",
        "        seen_emails.add(key)\n",
        "        cleaned_rows.append((name, email, phone))\n",
        "\n",
        "    expected_result= [(\"Alice Johnson\", \"alice@example.com\", \"4695551234\"), (\"Bob\", \"bob@example.com\", \"9725557777\")\n",
        "    ]\n",
        "\n",
        "    self.assertEqual(cleaned_rows, expected_result)\n",
        "\n",
        "\n",
        "unittest.main(argv=[''], exit=False, verbosity=2)"
      ],
      "metadata": {
        "id": "_M18cJw2NqZm",
        "colab": {
          "base_uri": "https://localhost:8080/"
        },
        "outputId": "c17ce1ac-d0db-497e-9e01-3c82d4f67f10"
      },
      "id": "_M18cJw2NqZm",
      "execution_count": 6,
      "outputs": [
        {
          "output_type": "stream",
          "name": "stderr",
          "text": [
            "test_de_dup (__main__.TestCRMCleanup.test_de_dup) ... ok\n",
            "test_emails (__main__.TestCRMCleanup.test_emails) ... ok\n",
            "test_parsing (__main__.TestCRMCleanup.test_parsing) ... ok\n",
            "test_phone_numbers (__main__.TestCRMCleanup.test_phone_numbers) ... ok\n",
            "\n",
            "----------------------------------------------------------------------\n",
            "Ran 4 tests in 0.009s\n",
            "\n",
            "OK\n"
          ]
        },
        {
          "output_type": "execute_result",
          "data": {
            "text/plain": [
              "<unittest.main.TestProgram at 0x7a46795858e0>"
            ]
          },
          "metadata": {},
          "execution_count": 6
        }
      ]
    },
    {
      "cell_type": "markdown",
      "id": "f38af38b",
      "metadata": {
        "id": "f38af38b"
      },
      "source": [
        "## Grading rubric (total 3 pts)\n",
        "- **Q1 (1.5 pts)**  \n",
        "  - (0.4) File I/O with `pathlib` + graceful `FileNotFoundError` handling  \n",
        "  - (0.5) Email validation (regex + strip + full match) and filtering  \n",
        "  - (0.4) Phone normalization and **case-insensitive** de-duplication (keep first)  \n",
        "  - (0.2) Code clarity (names, minimal docstrings/comments)\n",
        "- **Q2 (1.5 pts)**  \n",
        "  - (0.6) Meaningful coverage for email/phone functions (valid & invalid)  \n",
        "  - (0.6) Parsing & de-dup tests that assert exact expected rows  \n",
        "  - (0.3) Standard `unittest` structure and readable test names\n"
      ]
    }
  ],
  "metadata": {
    "colab": {
      "provenance": [],
      "include_colab_link": true
    },
    "language_info": {
      "name": "python"
    },
    "kernelspec": {
      "name": "python3",
      "display_name": "Python 3"
    }
  },
  "nbformat": 4,
  "nbformat_minor": 5
}